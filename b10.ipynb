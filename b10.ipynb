{
 "cells": [
  {
   "cell_type": "code",
   "execution_count": 1,
   "id": "08e4a176-dea9-47f1-9c8d-1b291a4a488c",
   "metadata": {},
   "outputs": [],
   "source": [
    "from PIL import Image\n",
    "import matplotlib.pyplot as plt\n",
    "import numpy as np\n"
   ]
  },
  {
   "cell_type": "code",
   "execution_count": 6,
   "id": "6ea54577-9fd8-49d9-af21-39859a4ba5b7",
   "metadata": {},
   "outputs": [],
   "source": [
    "dir = 'C:\\\\Users\\\\ADMIN\\\\Desktop\\\\TranTien\\\\ThiGiacMayTinh\\\\01'"
   ]
  },
  {
   "cell_type": "code",
   "execution_count": 9,
   "id": "a27468cc-e302-4446-909e-afb8e3b1dcbf",
   "metadata": {},
   "outputs": [],
   "source": [
    "img = Image.open(dir+'\\\\1.jpg')"
   ]
  },
  {
   "cell_type": "code",
   "execution_count": 13,
   "id": "2e72ae69-a283-423b-9133-2d765931b731",
   "metadata": {},
   "outputs": [
    {
     "name": "stdout",
     "output_type": "stream",
     "text": [
      "[(35.0, 134.0), (104.0, 91.5), (168.0, 97.0), (161.0, 150.5)]\n"
     ]
    }
   ],
   "source": [
    "plt.switch_backend('tkagg')\n",
    "plt.imshow(img)\n",
    "plt.title('Click on the image to select points')\n",
    "points = plt.ginput(4)\n",
    "print(points)\n",
    "plt.show()"
   ]
  },
  {
   "cell_type": "code",
   "execution_count": 15,
   "id": "e5591c1f-6cc2-4fc0-ac1f-a82d0edddcc4",
   "metadata": {},
   "outputs": [],
   "source": [
    "plt.imshow(img)\n",
    "for point in points:\n",
    "    x, y = point\n",
    "    plt.plot(x,y, 'r*')\n",
    "\n",
    "plt.show()"
   ]
  },
  {
   "cell_type": "code",
   "execution_count": 17,
   "id": "4c2bd2aa-0859-4677-9d3b-59a168718222",
   "metadata": {},
   "outputs": [],
   "source": [
    "plt.close()"
   ]
  },
  {
   "cell_type": "code",
   "execution_count": null,
   "id": "936a025c-6a33-453d-88e6-d15870aadc8f",
   "metadata": {},
   "outputs": [],
   "source": []
  }
 ],
 "metadata": {
  "kernelspec": {
   "display_name": "Python 3 (ipykernel)",
   "language": "python",
   "name": "python3"
  },
  "language_info": {
   "codemirror_mode": {
    "name": "ipython",
    "version": 3
   },
   "file_extension": ".py",
   "mimetype": "text/x-python",
   "name": "python",
   "nbconvert_exporter": "python",
   "pygments_lexer": "ipython3",
   "version": "3.12.4"
  }
 },
 "nbformat": 4,
 "nbformat_minor": 5
}
