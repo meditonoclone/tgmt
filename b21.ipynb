{
 "cells": [
  {
   "cell_type": "code",
   "execution_count": 1,
   "id": "53d783e5-6cde-4635-b405-5bcfc98f781e",
   "metadata": {},
   "outputs": [],
   "source": [
    "import cv2"
   ]
  },
  {
   "cell_type": "code",
   "execution_count": 11,
   "id": "7f4c31b6-2642-47c6-b2d1-5a2981db6449",
   "metadata": {},
   "outputs": [],
   "source": [
    "clip = cv2.VideoCapture('./data/cat.mp4')\n",
    "cv2.namedWindow('Video Player', cv2.WINDOW_NORMAL)\n"
   ]
  },
  {
   "cell_type": "code",
   "execution_count": 13,
   "id": "a71ebab4-a455-4f28-98d6-be78a177c957",
   "metadata": {},
   "outputs": [],
   "source": [
    "while True:\n",
    "    ret, frame = clip.read()\n",
    "    if not ret:\n",
    "        break\n",
    "    cv2.imshow('Video Player', frame)\n",
    "    if(cv2.waitKey(10)==ord('q')):\n",
    "        break"
   ]
  },
  {
   "cell_type": "code",
   "execution_count": 15,
   "id": "87516dd4-b6e0-496f-8ba1-5117c38b2734",
   "metadata": {},
   "outputs": [],
   "source": [
    "clip.release\n",
    "cv2.destroyAllWindows()"
   ]
  },
  {
   "cell_type": "code",
   "execution_count": null,
   "id": "79905581-788e-424f-b624-b44545aabb6a",
   "metadata": {},
   "outputs": [],
   "source": []
  }
 ],
 "metadata": {
  "kernelspec": {
   "display_name": "Python 3 (ipykernel)",
   "language": "python",
   "name": "python3"
  },
  "language_info": {
   "codemirror_mode": {
    "name": "ipython",
    "version": 3
   },
   "file_extension": ".py",
   "mimetype": "text/x-python",
   "name": "python",
   "nbconvert_exporter": "python",
   "pygments_lexer": "ipython3",
   "version": "3.12.4"
  }
 },
 "nbformat": 4,
 "nbformat_minor": 5
}
