{
 "cells": [
  {
   "cell_type": "code",
   "execution_count": 1,
   "id": "e4f6d9b0-cd1b-4cea-b89a-bf3dc9153c8b",
   "metadata": {},
   "outputs": [
    {
     "name": "stdout",
     "output_type": "stream",
     "text": [
      "Requirement already satisfied: scipy in c:\\users\\admin\\anaconda3\\lib\\site-packages (1.13.1)\n",
      "Requirement already satisfied: numpy<2.3,>=1.22.4 in c:\\users\\admin\\anaconda3\\lib\\site-packages (from scipy) (1.26.4)\n"
     ]
    }
   ],
   "source": [
    "!pip install scipy"
   ]
  },
  {
   "cell_type": "code",
   "execution_count": 3,
   "id": "f8d145c0-bd25-48ff-bb45-77731b0430cb",
   "metadata": {},
   "outputs": [
    {
     "name": "stdout",
     "output_type": "stream",
     "text": [
      "Kết quả:  [ 3. -1.]\n"
     ]
    }
   ],
   "source": [
    "from scipy import linalg\n",
    "import numpy as np\n",
    "\n",
    "#Định nghĩa hệ chương trình tuyến tính\n",
    "A = np.array([[2,1],[3,2]])\n",
    "B = np.array([5, 7])\n",
    "\n",
    "#Giải hệ phương trình tuyến tính\n",
    "x = linalg.solve(A, B)\n",
    "print(\"Kết quả: \",x)"
   ]
  },
  {
   "cell_type": "code",
   "execution_count": 5,
   "id": "76d81cde-e21d-4e58-93bd-62d9dddfcc9b",
   "metadata": {},
   "outputs": [
    {
     "name": "stdout",
     "output_type": "stream",
     "text": [
      "Tích phân f(x) từ 1 đến 10:  391.5\n"
     ]
    }
   ],
   "source": [
    "#Tính tích phân của một hàm số\n",
    "from scipy import integrate\n",
    "\n",
    "#Định nghĩa f(x) = x*2\n",
    "def my_function(x):\n",
    "    return x**2+x+1;\n",
    "\n",
    "#Tính tích phân của f(x) từ 1 đến 10\n",
    "integral = integrate.quad(my_function, 1, 10);\n",
    "print(\"Tích phân f(x) từ 1 đến 10: \", integral[0])"
   ]
  },
  {
   "cell_type": "code",
   "execution_count": null,
   "id": "e702fb4a-2312-482f-b843-ab3e15f86527",
   "metadata": {},
   "outputs": [],
   "source": []
  }
 ],
 "metadata": {
  "kernelspec": {
   "display_name": "Python 3 (ipykernel)",
   "language": "python",
   "name": "python3"
  },
  "language_info": {
   "codemirror_mode": {
    "name": "ipython",
    "version": 3
   },
   "file_extension": ".py",
   "mimetype": "text/x-python",
   "name": "python",
   "nbconvert_exporter": "python",
   "pygments_lexer": "ipython3",
   "version": "3.12.4"
  }
 },
 "nbformat": 4,
 "nbformat_minor": 5
}
