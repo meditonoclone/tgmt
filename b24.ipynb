{
 "cells": [
  {
   "cell_type": "code",
   "execution_count": 13,
   "id": "53d783e5-6cde-4635-b405-5bcfc98f781e",
   "metadata": {},
   "outputs": [],
   "source": [
    "import cv2\n",
    "import time"
   ]
  },
  {
   "cell_type": "code",
   "execution_count": 33,
   "id": "7f4c31b6-2642-47c6-b2d1-5a2981db6449",
   "metadata": {},
   "outputs": [],
   "source": [
    "cam = cv2.VideoCapture(0)\n",
    "cv2.namedWindow('Video Player', cv2.WINDOW_NORMAL)\n",
    "interval = 20\n",
    "count = 0"
   ]
  },
  {
   "cell_type": "code",
   "execution_count": 16,
   "id": "ca038884-c5c8-4e7f-869d-87269f43dbcc",
   "metadata": {},
   "outputs": [],
   "source": [
    "font = cv2.FONT_HERSHEY_SIMPLEX\n",
    "f_color = (255, 255, 255)\n",
    "font_scale = 2\n",
    "font_thicknes = 2"
   ]
  },
  {
   "cell_type": "code",
   "execution_count": 35,
   "id": "a71ebab4-a455-4f28-98d6-be78a177c957",
   "metadata": {},
   "outputs": [],
   "source": [
    "while True:\n",
    "    start = time.time()\n",
    "    ret, frame = cam.read()\n",
    "    count = count + 1\n",
    "    if(count < 1000):\n",
    "        if(count%interval == 0):\n",
    "            cv2.imwrite(f'./data/imageAAA_{count}.jpg', frame)\n",
    "    end = time.time()\n",
    "    fps = 1/(end-start) if end-start != 0 else 0\n",
    "    cv2.putText(frame, f'fps: {fps:.2f}', (100,100), font, font_scale, f_color, font_thicknes)\n",
    "    if not ret:\n",
    "        break\n",
    "    cv2.imshow('Video Player', frame)\n",
    "    if(cv2.waitKey(10)==ord('q')):\n",
    "        break"
   ]
  },
  {
   "cell_type": "code",
   "execution_count": 37,
   "id": "87516dd4-b6e0-496f-8ba1-5117c38b2734",
   "metadata": {},
   "outputs": [],
   "source": [
    "cam.release\n",
    "cv2.destroyAllWindows()"
   ]
  },
  {
   "cell_type": "code",
   "execution_count": null,
   "id": "79905581-788e-424f-b624-b44545aabb6a",
   "metadata": {},
   "outputs": [],
   "source": []
  },
  {
   "cell_type": "code",
   "execution_count": null,
   "id": "b2fd9d58-b830-40a4-9e90-1e84f52a7d0e",
   "metadata": {},
   "outputs": [],
   "source": []
  }
 ],
 "metadata": {
  "kernelspec": {
   "display_name": "Python 3 (ipykernel)",
   "language": "python",
   "name": "python3"
  },
  "language_info": {
   "codemirror_mode": {
    "name": "ipython",
    "version": 3
   },
   "file_extension": ".py",
   "mimetype": "text/x-python",
   "name": "python",
   "nbconvert_exporter": "python",
   "pygments_lexer": "ipython3",
   "version": "3.12.4"
  }
 },
 "nbformat": 4,
 "nbformat_minor": 5
}
