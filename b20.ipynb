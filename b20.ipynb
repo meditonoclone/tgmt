{
 "cells": [
  {
   "cell_type": "code",
   "execution_count": 15,
   "id": "5806ae6f-58f8-4328-b0e7-81a306f9b180",
   "metadata": {},
   "outputs": [],
   "source": [
    "import cv2\n",
    "import numpy as np\n"
   ]
  },
  {
   "cell_type": "code",
   "execution_count": 7,
   "id": "703b5c87-e086-4df4-85f9-06e59cb84d31",
   "metadata": {},
   "outputs": [],
   "source": [
    "def display(img):\n",
    "    cv2.imshow('title', img)\n",
    "    cv2.waitKey(0)\n",
    "    cv2.destroyWindow('title')"
   ]
  },
  {
   "cell_type": "code",
   "execution_count": 19,
   "id": "1f856c8b-e7ca-4447-8246-41908086340c",
   "metadata": {},
   "outputs": [],
   "source": [
    "img =   np.zeros((400, 400, 3), dtype = np.uint8)\n",
    "display(img)"
   ]
  },
  {
   "cell_type": "code",
   "execution_count": 23,
   "id": "c5160582-d069-4f4d-b6b9-9967e3b42da1",
   "metadata": {},
   "outputs": [],
   "source": [
    "img1 = img\n",
    "cv2.line(img1, (50, 50), (350, 50), (255, 255, 255), 5)\n",
    "display(img1)"
   ]
  },
  {
   "cell_type": "code",
   "execution_count": 26,
   "id": "ddf9db86-5edf-462a-87c8-7923a0251343",
   "metadata": {},
   "outputs": [],
   "source": [
    "img2 = img1\n",
    "cv2.circle(img2, (350, 100), 50, (0, 0, 255), -1)\n",
    "display(img2)"
   ]
  },
  {
   "cell_type": "code",
   "execution_count": 34,
   "id": "7f5810dd-d8ca-400a-8968-e5702109f981",
   "metadata": {},
   "outputs": [],
   "source": [
    "cv2.rectangle(img2, (200, 200), (400, 400), (255, 0, 0), -1)\n",
    "display(img2)"
   ]
  },
  {
   "cell_type": "code",
   "execution_count": 48,
   "id": "5523f74b-f808-48e8-bd63-551b48f952c9",
   "metadata": {},
   "outputs": [],
   "source": [
    "content = 'Tran Tien'\n",
    "font = cv2.FONT_HERSHEY_SIMPLEX\n",
    "cv2.putText(img2, content, (10, 120), font, 0.6, (0, 255, 0), 1)\n",
    "display(img2)"
   ]
  },
  {
   "cell_type": "code",
   "execution_count": null,
   "id": "8e7a13cf-380b-46fc-9d49-07816dd40984",
   "metadata": {},
   "outputs": [],
   "source": []
  }
 ],
 "metadata": {
  "kernelspec": {
   "display_name": "Python 3 (ipykernel)",
   "language": "python",
   "name": "python3"
  },
  "language_info": {
   "codemirror_mode": {
    "name": "ipython",
    "version": 3
   },
   "file_extension": ".py",
   "mimetype": "text/x-python",
   "name": "python",
   "nbconvert_exporter": "python",
   "pygments_lexer": "ipython3",
   "version": "3.12.4"
  }
 },
 "nbformat": 4,
 "nbformat_minor": 5
}
